{
 "cells": [
  {
   "cell_type": "code",
   "execution_count": 2,
   "metadata": {},
   "outputs": [
    {
     "name": "stdout",
     "output_type": "stream",
     "text": [
      "2018\n",
      "10\n",
      "9\n"
     ]
    }
   ],
   "source": [
    "from datetime import date\n",
    "halloween=date(2018,10,9)\n",
    "print(halloween.year)\n",
    "print(halloween.month)\n",
    "print(halloween.day)"
   ]
  },
  {
   "cell_type": "code",
   "execution_count": 6,
   "metadata": {},
   "outputs": [
    {
     "name": "stdout",
     "output_type": "stream",
     "text": [
      "2022\n",
      "11\n",
      "2\n",
      "2022\n",
      "11\n",
      "3\n",
      "2022\n",
      "11\n",
      "1\n"
     ]
    }
   ],
   "source": [
    "from datetime import timedelta\n",
    "now=date.today()\n",
    "print(now.year)\n",
    "print(now.month)\n",
    "print(now.day)\n",
    "one_day=timedelta(days=1)\n",
    "tomorrow=now +one_day\n",
    "print(tomorrow.year)\n",
    "print(tomorrow.month)\n",
    "print(tomorrow.day)\n",
    "yesterday=now-one_day\n",
    "print(yesterday.year)\n",
    "print(yesterday.month)\n",
    "print(yesterday.day)"
   ]
  }
 ],
 "metadata": {
  "kernelspec": {
   "display_name": "Python 3.9.2 ('venv03')",
   "language": "python",
   "name": "python3"
  },
  "language_info": {
   "codemirror_mode": {
    "name": "ipython",
    "version": 3
   },
   "file_extension": ".py",
   "mimetype": "text/x-python",
   "name": "python",
   "nbconvert_exporter": "python",
   "pygments_lexer": "ipython3",
   "version": "3.9.2"
  },
  "orig_nbformat": 4,
  "vscode": {
   "interpreter": {
    "hash": "148e49560c17052f906bf8cff9c345b27806a6d73ebffbd67fd1e077361ced33"
   }
  }
 },
 "nbformat": 4,
 "nbformat_minor": 2
}
