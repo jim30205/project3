{
 "cells": [
  {
   "cell_type": "code",
   "execution_count": 1,
   "metadata": {},
   "outputs": [
    {
     "name": "stdout",
     "output_type": "stream",
     "text": [
      "2022\n",
      "11\n",
      "2\n",
      "13\n",
      "52\n",
      "57\n",
      "民國111年11月2日-13:52:57\n"
     ]
    }
   ],
   "source": [
    "from datetime import datetime\n",
    "current =datetime.now()\n",
    "current\n",
    "print(current.year)\n",
    "print(current.month)\n",
    "print(current.day)\n",
    "print(current.hour)\n",
    "print(current.minute)\n",
    "print(current.second)\n",
    "print(f\"民國{current.year-1911}年{current.month}月{current.day}日-{current.hour}:{current.minute}:{current.second}\")"
   ]
  },
  {
   "cell_type": "code",
   "execution_count": 8,
   "metadata": {},
   "outputs": [
    {
     "data": {
      "text/plain": [
       "'2022-11-02 13-52-57'"
      ]
     },
     "execution_count": 8,
     "metadata": {},
     "output_type": "execute_result"
    }
   ],
   "source": [
    "#實體方法strftime\n",
    "current.strftime(\"%Y-%m-%d %H:%M:%S\")"
   ]
  },
  {
   "cell_type": "code",
   "execution_count": 11,
   "metadata": {},
   "outputs": [
    {
     "name": "stdout",
     "output_type": "stream",
     "text": [
      "2022\n",
      "11\n",
      "2\n",
      "14\n",
      "3\n",
      "49\n"
     ]
    }
   ],
   "source": [
    "datetime_str=\"20221102-14:03:49\"\n",
    "datetime_obj=datetime.strptime(datetime_str,\"%Y%m%d-%H:%M:%S\")\n",
    "print(datetime_obj.year)\n",
    "print(datetime_obj.month)\n",
    "print(datetime_obj.day)\n",
    "print(datetime_obj.hour)\n",
    "print(datetime_obj.minute)\n",
    "print(datetime_obj.second)"
   ]
  }
 ],
 "metadata": {
  "kernelspec": {
   "display_name": "Python 3.9.2 ('venv03')",
   "language": "python",
   "name": "python3"
  },
  "language_info": {
   "codemirror_mode": {
    "name": "ipython",
    "version": 3
   },
   "file_extension": ".py",
   "mimetype": "text/x-python",
   "name": "python",
   "nbconvert_exporter": "python",
   "pygments_lexer": "ipython3",
   "version": "3.9.2"
  },
  "orig_nbformat": 4,
  "vscode": {
   "interpreter": {
    "hash": "148e49560c17052f906bf8cff9c345b27806a6d73ebffbd67fd1e077361ced33"
   }
  }
 },
 "nbformat": 4,
 "nbformat_minor": 2
}
