{
 "cells": [
  {
   "cell_type": "code",
   "execution_count": 3,
   "metadata": {},
   "outputs": [
    {
     "name": "stdout",
     "output_type": "stream",
     "text": [
      "2022-11-02.csv\n"
     ]
    }
   ],
   "source": [
    "import os\n",
    "from datetime import date\n",
    "if not os.path.isdir(\"./data\"):\n",
    "    os.mkdir(\"data\")\n",
    "today=date.today()\n",
    "filename=today.strftime(\"%Y-%m-%d.csv\")\n",
    "print(filename)"
   ]
  }
 ],
 "metadata": {
  "kernelspec": {
   "display_name": "Python 3.9.2 ('venv03')",
   "language": "python",
   "name": "python3"
  },
  "language_info": {
   "codemirror_mode": {
    "name": "ipython",
    "version": 3
   },
   "file_extension": ".py",
   "mimetype": "text/x-python",
   "name": "python",
   "nbconvert_exporter": "python",
   "pygments_lexer": "ipython3",
   "version": "3.9.2"
  },
  "orig_nbformat": 4,
  "vscode": {
   "interpreter": {
    "hash": "148e49560c17052f906bf8cff9c345b27806a6d73ebffbd67fd1e077361ced33"
   }
  }
 },
 "nbformat": 4,
 "nbformat_minor": 2
}
